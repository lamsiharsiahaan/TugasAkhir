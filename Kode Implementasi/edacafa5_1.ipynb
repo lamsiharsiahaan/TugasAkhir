{
 "cells": [
  {
   "cell_type": "code",
   "execution_count": null,
   "metadata": {},
   "outputs": [],
   "source": [
    "pip install --upgrade setuptools"
   ]
  },
  {
   "cell_type": "code",
   "execution_count": null,
   "metadata": {},
   "outputs": [],
   "source": [
    "pip install pandas"
   ]
  },
  {
   "cell_type": "code",
   "execution_count": null,
   "metadata": {},
   "outputs": [],
   "source": [
    "pip install Bio"
   ]
  },
  {
   "cell_type": "code",
   "execution_count": null,
   "metadata": {},
   "outputs": [],
   "source": [
    "pip install matplotlib"
   ]
  },
  {
   "cell_type": "code",
   "execution_count": null,
   "metadata": {},
   "outputs": [],
   "source": [
    "pip install seaborn"
   ]
  },
  {
   "cell_type": "code",
   "execution_count": 3,
   "metadata": {},
   "outputs": [],
   "source": [
    "import obonet\n",
    "import pandas as pd\n",
    "\n",
    "import warnings\n",
    "import time\n",
    "\n",
    "from Bio import SeqIO\n",
    "from Bio.SeqUtils import ProtParam\n",
    "from Bio.SeqIO.FastaIO import SimpleFastaParser\n",
    "\n",
    "import networkx as nx\n",
    "import matplotlib.pyplot as plt\n",
    "import seaborn as sns\n",
    "import numpy as np"
   ]
  },
  {
   "cell_type": "code",
   "execution_count": 2,
   "metadata": {},
   "outputs": [],
   "source": [
    "def read_fasta(path):\n",
    "    # will close handle cleanly\n",
    "    with open(path) as fasta_file:\n",
    "        identifiers = []\n",
    "        lengths = []\n",
    "        for title, sequence in SimpleFastaParser(fasta_file):\n",
    "            identifiers.append(title.split(None, 1)[0])  # First word is ID\n",
    "            lengths.append(sequence)\n",
    "\n",
    "    # converting lists to pandas Series    \n",
    "    s1 = pd.Series(identifiers, name='protein_id')\n",
    "    s2 = pd.Series(lengths, name='sequence')\n",
    "\n",
    "    # gathering Series into a pandas DataFrame and rename index as id column\n",
    "    Qfasta = pd.DataFrame(dict(protein_id=s1, sequence=s2))\n",
    "\n",
    "    return Qfasta"
   ]
  },
  {
   "cell_type": "code",
   "execution_count": 3,
   "metadata": {},
   "outputs": [],
   "source": [
    "obo_path = \"C:/Users/ruthc/OneDrive/Desktop/SEMESTER 8/TA II/CAFA5/Train/go-basic.obo\"\n",
    "graph = obonet.read_obo(obo_path)"
   ]
  },
  {
   "cell_type": "code",
   "execution_count": 4,
   "metadata": {},
   "outputs": [],
   "source": [
    "fasta_path = \"C:/Users/ruthc/OneDrive/Desktop/SEMESTER 8/TA II/CAFA5/Train/train_sequences.fasta\"\n",
    "terms_path = \"C:/Users/ruthc/OneDrive/Desktop/SEMESTER 8/TA II/CAFA5/Train/train_terms.tsv\"\n",
    "taxonomy_path = \"C:/Users/ruthc/OneDrive/Desktop/SEMESTER 8/TA II/CAFA5/Train/train_taxonomy.tsv\""
   ]
  },
  {
   "cell_type": "code",
   "execution_count": null,
   "metadata": {},
   "outputs": [],
   "source": [
    "from Bio import SeqIO\n",
    "\n",
    "# Path to your fasta file\n",
    "fasta_path = \"C:/Users/ruthc/OneDrive/Desktop/SEMESTER 8/TA II/CAFA5/Train/train_sequences.fasta\"\n",
    "\n",
    "# Read fasta file and calculate average sequence length\n",
    "total_sequences = 0\n",
    "total_length = 0\n",
    "\n",
    "for record in SeqIO.parse(fasta_path, \"fasta\"):\n",
    "    total_sequences += 1\n",
    "    total_length += len(record.seq)\n",
    "\n",
    "average_length = total_length / total_sequences\n",
    "\n",
    "print(f\"Total sequences: {total_sequences}\")\n",
    "print(f\"Total length of all sequences: {total_length}\")\n",
    "print(f\"Average sequence length: {average_length:.2f}\")"
   ]
  },
  {
   "cell_type": "code",
   "execution_count": 5,
   "metadata": {},
   "outputs": [],
   "source": [
    "fasta_data = pd.DataFrame([(record.id, str(record.seq)) for record in SeqIO.parse(fasta_path, \"fasta\")], columns=['Protein_ID', 'Sequence'])\n",
    "\n",
    "# Read terms data, skipping the first row\n",
    "terms_data = pd.read_csv(terms_path, sep='\\t', header=None, names=['Protein_ID', 'GO_Term_ID', 'Ontology'], skiprows=1)\n",
    "\n",
    "# Read taxonomy data, skipping the first row\n",
    "taxonomy_data = pd.read_csv(taxonomy_path, sep='\\t', header=None, names=['Protein_ID', 'Taxon_ID'], skiprows=1)"
   ]
  },
  {
   "cell_type": "code",
   "execution_count": 6,
   "metadata": {},
   "outputs": [
    {
     "name": "stdout",
     "output_type": "stream",
     "text": [
      "Fasta Data:\n"
     ]
    },
    {
     "data": {
      "text/html": [
       "<div>\n",
       "<style scoped>\n",
       "    .dataframe tbody tr th:only-of-type {\n",
       "        vertical-align: middle;\n",
       "    }\n",
       "\n",
       "    .dataframe tbody tr th {\n",
       "        vertical-align: top;\n",
       "    }\n",
       "\n",
       "    .dataframe thead th {\n",
       "        text-align: right;\n",
       "    }\n",
       "</style>\n",
       "<table border=\"1\" class=\"dataframe\">\n",
       "  <thead>\n",
       "    <tr style=\"text-align: right;\">\n",
       "      <th></th>\n",
       "      <th>Protein_ID</th>\n",
       "      <th>Sequence</th>\n",
       "    </tr>\n",
       "  </thead>\n",
       "  <tbody>\n",
       "    <tr>\n",
       "      <th>0</th>\n",
       "      <td>P20536</td>\n",
       "      <td>MNSVTVSHAPYTITYHDDWEPVMSQLVEFYNEVASWLLRDETSPIP...</td>\n",
       "    </tr>\n",
       "    <tr>\n",
       "      <th>1</th>\n",
       "      <td>O73864</td>\n",
       "      <td>MTEYRNFLLLFITSLSVIYPCTGISWLGLTINGSSVGWNQTHHCKL...</td>\n",
       "    </tr>\n",
       "    <tr>\n",
       "      <th>2</th>\n",
       "      <td>O95231</td>\n",
       "      <td>MRLSSSPPRGPQQLSSFGSVDWLSQSSCSGPTHTPRPADFSLGSLP...</td>\n",
       "    </tr>\n",
       "    <tr>\n",
       "      <th>3</th>\n",
       "      <td>A0A0B4J1F4</td>\n",
       "      <td>MGGEAGADGPRGRVKSLGLVFEDESKGCYSSGETVAGHVLLEAAEP...</td>\n",
       "    </tr>\n",
       "    <tr>\n",
       "      <th>4</th>\n",
       "      <td>P54366</td>\n",
       "      <td>MVETNSPPAGYTLKRSPSDLGEQQQPPRQISRSPGNTAAYHLTTAM...</td>\n",
       "    </tr>\n",
       "  </tbody>\n",
       "</table>\n",
       "</div>"
      ],
      "text/plain": [
       "   Protein_ID                                           Sequence\n",
       "0      P20536  MNSVTVSHAPYTITYHDDWEPVMSQLVEFYNEVASWLLRDETSPIP...\n",
       "1      O73864  MTEYRNFLLLFITSLSVIYPCTGISWLGLTINGSSVGWNQTHHCKL...\n",
       "2      O95231  MRLSSSPPRGPQQLSSFGSVDWLSQSSCSGPTHTPRPADFSLGSLP...\n",
       "3  A0A0B4J1F4  MGGEAGADGPRGRVKSLGLVFEDESKGCYSSGETVAGHVLLEAAEP...\n",
       "4      P54366  MVETNSPPAGYTLKRSPSDLGEQQQPPRQISRSPGNTAAYHLTTAM..."
      ]
     },
     "metadata": {},
     "output_type": "display_data"
    },
    {
     "name": "stdout",
     "output_type": "stream",
     "text": [
      "\n",
      "Terms Data:\n"
     ]
    },
    {
     "data": {
      "text/html": [
       "<div>\n",
       "<style scoped>\n",
       "    .dataframe tbody tr th:only-of-type {\n",
       "        vertical-align: middle;\n",
       "    }\n",
       "\n",
       "    .dataframe tbody tr th {\n",
       "        vertical-align: top;\n",
       "    }\n",
       "\n",
       "    .dataframe thead th {\n",
       "        text-align: right;\n",
       "    }\n",
       "</style>\n",
       "<table border=\"1\" class=\"dataframe\">\n",
       "  <thead>\n",
       "    <tr style=\"text-align: right;\">\n",
       "      <th></th>\n",
       "      <th>Protein_ID</th>\n",
       "      <th>GO_Term_ID</th>\n",
       "      <th>Ontology</th>\n",
       "    </tr>\n",
       "  </thead>\n",
       "  <tbody>\n",
       "    <tr>\n",
       "      <th>0</th>\n",
       "      <td>A0A009IHW8</td>\n",
       "      <td>GO:0008152</td>\n",
       "      <td>BPO</td>\n",
       "    </tr>\n",
       "    <tr>\n",
       "      <th>1</th>\n",
       "      <td>A0A009IHW8</td>\n",
       "      <td>GO:0034655</td>\n",
       "      <td>BPO</td>\n",
       "    </tr>\n",
       "    <tr>\n",
       "      <th>2</th>\n",
       "      <td>A0A009IHW8</td>\n",
       "      <td>GO:0072523</td>\n",
       "      <td>BPO</td>\n",
       "    </tr>\n",
       "    <tr>\n",
       "      <th>3</th>\n",
       "      <td>A0A009IHW8</td>\n",
       "      <td>GO:0044270</td>\n",
       "      <td>BPO</td>\n",
       "    </tr>\n",
       "    <tr>\n",
       "      <th>4</th>\n",
       "      <td>A0A009IHW8</td>\n",
       "      <td>GO:0006753</td>\n",
       "      <td>BPO</td>\n",
       "    </tr>\n",
       "  </tbody>\n",
       "</table>\n",
       "</div>"
      ],
      "text/plain": [
       "   Protein_ID  GO_Term_ID Ontology\n",
       "0  A0A009IHW8  GO:0008152      BPO\n",
       "1  A0A009IHW8  GO:0034655      BPO\n",
       "2  A0A009IHW8  GO:0072523      BPO\n",
       "3  A0A009IHW8  GO:0044270      BPO\n",
       "4  A0A009IHW8  GO:0006753      BPO"
      ]
     },
     "metadata": {},
     "output_type": "display_data"
    },
    {
     "name": "stdout",
     "output_type": "stream",
     "text": [
      "\n",
      "Taxonomy Data:\n"
     ]
    },
    {
     "data": {
      "text/html": [
       "<div>\n",
       "<style scoped>\n",
       "    .dataframe tbody tr th:only-of-type {\n",
       "        vertical-align: middle;\n",
       "    }\n",
       "\n",
       "    .dataframe tbody tr th {\n",
       "        vertical-align: top;\n",
       "    }\n",
       "\n",
       "    .dataframe thead th {\n",
       "        text-align: right;\n",
       "    }\n",
       "</style>\n",
       "<table border=\"1\" class=\"dataframe\">\n",
       "  <thead>\n",
       "    <tr style=\"text-align: right;\">\n",
       "      <th></th>\n",
       "      <th>Protein_ID</th>\n",
       "      <th>Taxon_ID</th>\n",
       "    </tr>\n",
       "  </thead>\n",
       "  <tbody>\n",
       "    <tr>\n",
       "      <th>0</th>\n",
       "      <td>Q8IXT2</td>\n",
       "      <td>9606</td>\n",
       "    </tr>\n",
       "    <tr>\n",
       "      <th>1</th>\n",
       "      <td>Q04418</td>\n",
       "      <td>559292</td>\n",
       "    </tr>\n",
       "    <tr>\n",
       "      <th>2</th>\n",
       "      <td>A8DYA3</td>\n",
       "      <td>7227</td>\n",
       "    </tr>\n",
       "    <tr>\n",
       "      <th>3</th>\n",
       "      <td>Q9UUI3</td>\n",
       "      <td>284812</td>\n",
       "    </tr>\n",
       "    <tr>\n",
       "      <th>4</th>\n",
       "      <td>Q57ZS4</td>\n",
       "      <td>185431</td>\n",
       "    </tr>\n",
       "  </tbody>\n",
       "</table>\n",
       "</div>"
      ],
      "text/plain": [
       "  Protein_ID  Taxon_ID\n",
       "0     Q8IXT2      9606\n",
       "1     Q04418    559292\n",
       "2     A8DYA3      7227\n",
       "3     Q9UUI3    284812\n",
       "4     Q57ZS4    185431"
      ]
     },
     "metadata": {},
     "output_type": "display_data"
    }
   ],
   "source": [
    "print(\"Fasta Data:\")\n",
    "display(fasta_data.head())\n",
    "\n",
    "print(\"\\nTerms Data:\")\n",
    "display(terms_data.head())\n",
    "\n",
    "print(\"\\nTaxonomy Data:\")\n",
    "display(taxonomy_data.head())"
   ]
  },
  {
   "cell_type": "code",
   "execution_count": 33,
   "metadata": {},
   "outputs": [
    {
     "name": "stdout",
     "output_type": "stream",
     "text": [
      "Jumlah sekuens yang mengandung huruf tidak biasa: 1677\n"
     ]
    },
    {
     "data": {
      "text/html": [
       "<div>\n",
       "<style scoped>\n",
       "    .dataframe tbody tr th:only-of-type {\n",
       "        vertical-align: middle;\n",
       "    }\n",
       "\n",
       "    .dataframe tbody tr th {\n",
       "        vertical-align: top;\n",
       "    }\n",
       "\n",
       "    .dataframe thead th {\n",
       "        text-align: right;\n",
       "    }\n",
       "</style>\n",
       "<table border=\"1\" class=\"dataframe\">\n",
       "  <thead>\n",
       "    <tr style=\"text-align: right;\">\n",
       "      <th></th>\n",
       "      <th>Protein_ID</th>\n",
       "      <th>Sequence</th>\n",
       "    </tr>\n",
       "  </thead>\n",
       "  <tbody>\n",
       "    <tr>\n",
       "      <th>24</th>\n",
       "      <td>Q86KP5</td>\n",
       "      <td>MSLFNLPKVDLGEDCEGGVUARPSSSSSSINNASDESTPLISKTND...</td>\n",
       "    </tr>\n",
       "    <tr>\n",
       "      <th>264</th>\n",
       "      <td>O93661</td>\n",
       "      <td>MATEYALRMGDGKRVYLTKEKIVSEIEAGTADAADLGEIPALSANE...</td>\n",
       "    </tr>\n",
       "    <tr>\n",
       "      <th>550</th>\n",
       "      <td>Q9JLT4</td>\n",
       "      <td>MVAAMVAALRGPSRRFRPRTRALTRGTRGAASAAGGQQSFDLLVIG...</td>\n",
       "    </tr>\n",
       "    <tr>\n",
       "      <th>1730</th>\n",
       "      <td>Q8FDI4</td>\n",
       "      <td>MFDKYRKTLVAGTVAITLGLSASGVMAAGFKPAPPAGQLGAVIVDP...</td>\n",
       "    </tr>\n",
       "    <tr>\n",
       "      <th>2285</th>\n",
       "      <td>P11145</td>\n",
       "      <td>MTYEGAIGIDLGTTYSCVGVWQNERVEIIANDQGNRTTPSYVAFTD...</td>\n",
       "    </tr>\n",
       "    <tr>\n",
       "      <th>...</th>\n",
       "      <td>...</td>\n",
       "      <td>...</td>\n",
       "    </tr>\n",
       "    <tr>\n",
       "      <th>142168</th>\n",
       "      <td>H0YB24</td>\n",
       "      <td>XVLLLSSPGLEELYRCCMLFVDDMAEPRETPEHPLKQIKFLLGRKE...</td>\n",
       "    </tr>\n",
       "    <tr>\n",
       "      <th>142176</th>\n",
       "      <td>H0YJP4</td>\n",
       "      <td>XSVAGIVCHVGKAEDREQLVAKALEHCGGVDFLVCSAGVNPLVGST...</td>\n",
       "    </tr>\n",
       "    <tr>\n",
       "      <th>142188</th>\n",
       "      <td>F8W2K8</td>\n",
       "      <td>XAQIFQEHPLQRCSAVLVDVRNSSLNSSMDEVTESPLAVTNSSSQE...</td>\n",
       "    </tr>\n",
       "    <tr>\n",
       "      <th>142202</th>\n",
       "      <td>I3IT93</td>\n",
       "      <td>XMADAGVRVPMDQVKLAAISDERVDFIREQAFAILRVKTDKWNRFI...</td>\n",
       "    </tr>\n",
       "    <tr>\n",
       "      <th>142238</th>\n",
       "      <td>Q6XK24</td>\n",
       "      <td>MAGRRFKKFSKLELVLIVLLLVLFIIAVVLIVLLANSTPENAIGAE...</td>\n",
       "    </tr>\n",
       "  </tbody>\n",
       "</table>\n",
       "<p>1677 rows × 2 columns</p>\n",
       "</div>"
      ],
      "text/plain": [
       "       Protein_ID                                           Sequence\n",
       "24         Q86KP5  MSLFNLPKVDLGEDCEGGVUARPSSSSSSINNASDESTPLISKTND...\n",
       "264        O93661  MATEYALRMGDGKRVYLTKEKIVSEIEAGTADAADLGEIPALSANE...\n",
       "550        Q9JLT4  MVAAMVAALRGPSRRFRPRTRALTRGTRGAASAAGGQQSFDLLVIG...\n",
       "1730       Q8FDI4  MFDKYRKTLVAGTVAITLGLSASGVMAAGFKPAPPAGQLGAVIVDP...\n",
       "2285       P11145  MTYEGAIGIDLGTTYSCVGVWQNERVEIIANDQGNRTTPSYVAFTD...\n",
       "...           ...                                                ...\n",
       "142168     H0YB24  XVLLLSSPGLEELYRCCMLFVDDMAEPRETPEHPLKQIKFLLGRKE...\n",
       "142176     H0YJP4  XSVAGIVCHVGKAEDREQLVAKALEHCGGVDFLVCSAGVNPLVGST...\n",
       "142188     F8W2K8  XAQIFQEHPLQRCSAVLVDVRNSSLNSSMDEVTESPLAVTNSSSQE...\n",
       "142202     I3IT93  XMADAGVRVPMDQVKLAAISDERVDFIREQAFAILRVKTDKWNRFI...\n",
       "142238     Q6XK24  MAGRRFKKFSKLELVLIVLLLVLFIIAVVLIVLLANSTPENAIGAE...\n",
       "\n",
       "[1677 rows x 2 columns]"
      ]
     },
     "metadata": {},
     "output_type": "display_data"
    }
   ],
   "source": [
    "# Huruf-huruf yang tidak termasuk dalam 20 asam amino standar\n",
    "unusual_amino_acids = {'B', 'J', 'O', 'U', 'X', 'Z'}\n",
    "\n",
    "# Fungsi untuk memeriksa apakah sekuens mengandung huruf yang tidak biasa\n",
    "def contains_unusual_amino_acid(sequence):\n",
    "    return any(aa in unusual_amino_acids for aa in sequence)\n",
    "\n",
    "# Terapkan fungsi ke kolom 'Sequence' untuk memeriksa sekuens yang mengandung huruf yang tidak biasa\n",
    "fasta_data['Contains_Unusual_Amino_Acid'] = fasta_data['Sequence'].apply(contains_unusual_amino_acid)\n",
    "\n",
    "# Filter baris yang mengandung huruf yang tidak biasa\n",
    "unusual_sequences = fasta_data[fasta_data['Contains_Unusual_Amino_Acid']]\n",
    "\n",
    "# Tampilkan hasil\n",
    "print(f\"Jumlah sekuens yang mengandung huruf tidak biasa: {len(unusual_sequences)}\")\n",
    "display(unusual_sequences[['Protein_ID', 'Sequence']])"
   ]
  },
  {
   "cell_type": "code",
   "execution_count": 34,
   "metadata": {},
   "outputs": [
    {
     "name": "stdout",
     "output_type": "stream",
     "text": [
      "Cleaned Sequences:\n"
     ]
    },
    {
     "data": {
      "text/html": [
       "<div>\n",
       "<style scoped>\n",
       "    .dataframe tbody tr th:only-of-type {\n",
       "        vertical-align: middle;\n",
       "    }\n",
       "\n",
       "    .dataframe tbody tr th {\n",
       "        vertical-align: top;\n",
       "    }\n",
       "\n",
       "    .dataframe thead th {\n",
       "        text-align: right;\n",
       "    }\n",
       "</style>\n",
       "<table border=\"1\" class=\"dataframe\">\n",
       "  <thead>\n",
       "    <tr style=\"text-align: right;\">\n",
       "      <th></th>\n",
       "      <th>Protein_ID</th>\n",
       "      <th>Sequence</th>\n",
       "      <th>Cleaned_Sequence</th>\n",
       "    </tr>\n",
       "  </thead>\n",
       "  <tbody>\n",
       "    <tr>\n",
       "      <th>0</th>\n",
       "      <td>P20536</td>\n",
       "      <td>MNSVTVSHAPYTITYHDDWEPVMSQLVEFYNEVASWLLRDETSPIP...</td>\n",
       "      <td>MNSVTVSHAPYTITYHDDWEPVMSQLVEFYNEVASWLLRDETSPIP...</td>\n",
       "    </tr>\n",
       "    <tr>\n",
       "      <th>1</th>\n",
       "      <td>O73864</td>\n",
       "      <td>MTEYRNFLLLFITSLSVIYPCTGISWLGLTINGSSVGWNQTHHCKL...</td>\n",
       "      <td>MTEYRNFLLLFITSLSVIYPCTGISWLGLTINGSSVGWNQTHHCKL...</td>\n",
       "    </tr>\n",
       "    <tr>\n",
       "      <th>2</th>\n",
       "      <td>O95231</td>\n",
       "      <td>MRLSSSPPRGPQQLSSFGSVDWLSQSSCSGPTHTPRPADFSLGSLP...</td>\n",
       "      <td>MRLSSSPPRGPQQLSSFGSVDWLSQSSCSGPTHTPRPADFSLGSLP...</td>\n",
       "    </tr>\n",
       "    <tr>\n",
       "      <th>3</th>\n",
       "      <td>A0A0B4J1F4</td>\n",
       "      <td>MGGEAGADGPRGRVKSLGLVFEDESKGCYSSGETVAGHVLLEAAEP...</td>\n",
       "      <td>MGGEAGADGPRGRVKSLGLVFEDESKGCYSSGETVAGHVLLEAAEP...</td>\n",
       "    </tr>\n",
       "    <tr>\n",
       "      <th>4</th>\n",
       "      <td>P54366</td>\n",
       "      <td>MVETNSPPAGYTLKRSPSDLGEQQQPPRQISRSPGNTAAYHLTTAM...</td>\n",
       "      <td>MVETNSPPAGYTLKRSPSDLGEQQQPPRQISRSPGNTAAYHLTTAM...</td>\n",
       "    </tr>\n",
       "    <tr>\n",
       "      <th>...</th>\n",
       "      <td>...</td>\n",
       "      <td>...</td>\n",
       "      <td>...</td>\n",
       "    </tr>\n",
       "    <tr>\n",
       "      <th>142241</th>\n",
       "      <td>A0A286YAI0</td>\n",
       "      <td>METEVDDFPGKASIFSQVNPLYSNNMKLCEAERYDFQHSEPKTMKS...</td>\n",
       "      <td>METEVDDFPGKASIFSQVNPLYSNNMKLCEAERYDFQHSEPKTMKS...</td>\n",
       "    </tr>\n",
       "    <tr>\n",
       "      <th>142242</th>\n",
       "      <td>A0A1D5NUC4</td>\n",
       "      <td>MSAAASAEMIETPPVLNFEEIDYKEIEVEEVVGRGAFGVVCKAKWR...</td>\n",
       "      <td>MSAAASAEMIETPPVLNFEEIDYKEIEVEEVVGRGAFGVVCKAKWR...</td>\n",
       "    </tr>\n",
       "    <tr>\n",
       "      <th>142243</th>\n",
       "      <td>Q5RGB0</td>\n",
       "      <td>MADKGPILTSVIIFYLSIGAAIFQILEEPNLNSAVDDYKNKTNNLL...</td>\n",
       "      <td>MADKGPILTSVIIFYLSIGAAIFQILEEPNLNSAVDDYKNKTNNLL...</td>\n",
       "    </tr>\n",
       "    <tr>\n",
       "      <th>142244</th>\n",
       "      <td>A0A2R8QMZ5</td>\n",
       "      <td>MGRKKIQITRIMDERNRQVTFTKRKFGLMKKAYELSVLCDCEIALI...</td>\n",
       "      <td>MGRKKIQITRIMDERNRQVTFTKRKFGLMKKAYELSVLCDCEIALI...</td>\n",
       "    </tr>\n",
       "    <tr>\n",
       "      <th>142245</th>\n",
       "      <td>A0A8I6GHU0</td>\n",
       "      <td>HCISSLKLTAFFKRSFLLSPEKHLVLLRDGRTLIGFLRSIDQFANL...</td>\n",
       "      <td>HCISSLKLTAFFKRSFLLSPEKHLVLLRDGRTLIGFLRSIDQFANL...</td>\n",
       "    </tr>\n",
       "  </tbody>\n",
       "</table>\n",
       "<p>142246 rows × 3 columns</p>\n",
       "</div>"
      ],
      "text/plain": [
       "        Protein_ID                                           Sequence  \\\n",
       "0           P20536  MNSVTVSHAPYTITYHDDWEPVMSQLVEFYNEVASWLLRDETSPIP...   \n",
       "1           O73864  MTEYRNFLLLFITSLSVIYPCTGISWLGLTINGSSVGWNQTHHCKL...   \n",
       "2           O95231  MRLSSSPPRGPQQLSSFGSVDWLSQSSCSGPTHTPRPADFSLGSLP...   \n",
       "3       A0A0B4J1F4  MGGEAGADGPRGRVKSLGLVFEDESKGCYSSGETVAGHVLLEAAEP...   \n",
       "4           P54366  MVETNSPPAGYTLKRSPSDLGEQQQPPRQISRSPGNTAAYHLTTAM...   \n",
       "...            ...                                                ...   \n",
       "142241  A0A286YAI0  METEVDDFPGKASIFSQVNPLYSNNMKLCEAERYDFQHSEPKTMKS...   \n",
       "142242  A0A1D5NUC4  MSAAASAEMIETPPVLNFEEIDYKEIEVEEVVGRGAFGVVCKAKWR...   \n",
       "142243      Q5RGB0  MADKGPILTSVIIFYLSIGAAIFQILEEPNLNSAVDDYKNKTNNLL...   \n",
       "142244  A0A2R8QMZ5  MGRKKIQITRIMDERNRQVTFTKRKFGLMKKAYELSVLCDCEIALI...   \n",
       "142245  A0A8I6GHU0  HCISSLKLTAFFKRSFLLSPEKHLVLLRDGRTLIGFLRSIDQFANL...   \n",
       "\n",
       "                                         Cleaned_Sequence  \n",
       "0       MNSVTVSHAPYTITYHDDWEPVMSQLVEFYNEVASWLLRDETSPIP...  \n",
       "1       MTEYRNFLLLFITSLSVIYPCTGISWLGLTINGSSVGWNQTHHCKL...  \n",
       "2       MRLSSSPPRGPQQLSSFGSVDWLSQSSCSGPTHTPRPADFSLGSLP...  \n",
       "3       MGGEAGADGPRGRVKSLGLVFEDESKGCYSSGETVAGHVLLEAAEP...  \n",
       "4       MVETNSPPAGYTLKRSPSDLGEQQQPPRQISRSPGNTAAYHLTTAM...  \n",
       "...                                                   ...  \n",
       "142241  METEVDDFPGKASIFSQVNPLYSNNMKLCEAERYDFQHSEPKTMKS...  \n",
       "142242  MSAAASAEMIETPPVLNFEEIDYKEIEVEEVVGRGAFGVVCKAKWR...  \n",
       "142243  MADKGPILTSVIIFYLSIGAAIFQILEEPNLNSAVDDYKNKTNNLL...  \n",
       "142244  MGRKKIQITRIMDERNRQVTFTKRKFGLMKKAYELSVLCDCEIALI...  \n",
       "142245  HCISSLKLTAFFKRSFLLSPEKHLVLLRDGRTLIGFLRSIDQFANL...  \n",
       "\n",
       "[142246 rows x 3 columns]"
      ]
     },
     "metadata": {},
     "output_type": "display_data"
    }
   ],
   "source": [
    "# Define a set of standard amino acids\n",
    "standard_amino_acids = {'A', 'C', 'D', 'E', 'F', 'G', 'H', 'I', 'K', 'L', 'M', 'N', 'P', 'Q', 'R', 'S', 'T', 'V', 'W', 'Y'}\n",
    "\n",
    "# Function to clean sequence by removing non-standard amino acids\n",
    "def clean_sequence(sequence):\n",
    "    return ''.join([aa for aa in sequence if aa in standard_amino_acids])\n",
    "\n",
    "# Apply the function to clean sequences\n",
    "fasta_data['Cleaned_Sequence'] = fasta_data['Sequence'].apply(clean_sequence)\n",
    "\n",
    "# Display cleaned sequences\n",
    "print(\"Cleaned Sequences:\")\n",
    "display(fasta_data[['Protein_ID', 'Sequence', 'Cleaned_Sequence']])"
   ]
  },
  {
   "cell_type": "code",
   "execution_count": 7,
   "metadata": {},
   "outputs": [
    {
     "name": "stdout",
     "output_type": "stream",
     "text": [
      "Total Counts of Each Amino Acid:\n",
      "     Count  Frequency\n",
      "A  5601393   0.071129\n",
      "C  1504314   0.019102\n",
      "D  4151113   0.052713\n",
      "E  5388873   0.068430\n",
      "F  2930638   0.037215\n",
      "G  5061691   0.064276\n",
      "H  1914456   0.024311\n",
      "I  3879567   0.049265\n",
      "K  4594229   0.058340\n",
      "L  7386109   0.093792\n",
      "M  1776672   0.022561\n",
      "N  3400751   0.043184\n",
      "P  4382337   0.055649\n",
      "Q  3563728   0.045254\n",
      "R  4283020   0.054388\n",
      "S  6493284   0.082455\n",
      "T  4378528   0.055601\n",
      "V  4931367   0.062621\n",
      "W   888449   0.011282\n",
      "Y  2239153   0.028434\n"
     ]
    }
   ],
   "source": [
    "import pandas as pd\n",
    "from collections import Counter\n",
    "\n",
    "# Define a function to count amino acids in a sequence, excluding non-standard codes\n",
    "def count_amino_acids(sequence):\n",
    "    standard_amino_acids = \"ACDEFGHIKLMNPQRSTVWY\"\n",
    "    filtered_sequence = ''.join([aa for aa in sequence if aa in standard_amino_acids])\n",
    "    return Counter(filtered_sequence)\n",
    "\n",
    "# Apply the function to each sequence in the dataset\n",
    "fasta_data['Amino_Acid_Counts'] = fasta_data['Sequence'].apply(count_amino_acids)\n",
    "\n",
    "# Aggregate counts across all sequences\n",
    "total_counts = Counter()\n",
    "for counts in fasta_data['Amino_Acid_Counts']:\n",
    "    total_counts.update(counts)\n",
    "\n",
    "# Convert the Counter object to a DataFrame for easier analysis\n",
    "amino_acid_df = pd.DataFrame.from_dict(total_counts, orient='index', columns=['Count'])\n",
    "amino_acid_df = amino_acid_df.sort_index()\n",
    "\n",
    "# Calculate the relative frequency of each amino acid\n",
    "total_amino_acids = amino_acid_df['Count'].sum()\n",
    "amino_acid_df['Frequency'] = amino_acid_df['Count'] / total_amino_acids\n",
    "\n",
    "# Display the results\n",
    "print(\"Total Counts of Each Amino Acid:\")\n",
    "print(amino_acid_df)"
   ]
  },
  {
   "cell_type": "code",
   "execution_count": 37,
   "metadata": {},
   "outputs": [
    {
     "name": "stdout",
     "output_type": "stream",
     "text": [
      "Jumlah sekuens yang masih mengandung huruf tidak biasa setelah pembersihan: 0\n"
     ]
    },
    {
     "data": {
      "text/html": [
       "<div>\n",
       "<style scoped>\n",
       "    .dataframe tbody tr th:only-of-type {\n",
       "        vertical-align: middle;\n",
       "    }\n",
       "\n",
       "    .dataframe tbody tr th {\n",
       "        vertical-align: top;\n",
       "    }\n",
       "\n",
       "    .dataframe thead th {\n",
       "        text-align: right;\n",
       "    }\n",
       "</style>\n",
       "<table border=\"1\" class=\"dataframe\">\n",
       "  <thead>\n",
       "    <tr style=\"text-align: right;\">\n",
       "      <th></th>\n",
       "      <th>Protein_ID</th>\n",
       "      <th>Sequence</th>\n",
       "      <th>Cleaned_Sequence</th>\n",
       "    </tr>\n",
       "  </thead>\n",
       "  <tbody>\n",
       "  </tbody>\n",
       "</table>\n",
       "</div>"
      ],
      "text/plain": [
       "Empty DataFrame\n",
       "Columns: [Protein_ID, Sequence, Cleaned_Sequence]\n",
       "Index: []"
      ]
     },
     "metadata": {},
     "output_type": "display_data"
    }
   ],
   "source": [
    "# Set of standard amino acids\n",
    "standard_amino_acids = {'A', 'C', 'D', 'E', 'F', 'G', 'H', 'I', 'K', 'L', 'M', 'N', 'P', 'Q', 'R', 'S', 'T', 'V', 'W', 'Y'}\n",
    "\n",
    "# Function to check for non-standard amino acids in a sequence\n",
    "def contains_unusual_amino_acid(sequence):\n",
    "    return any(aa not in standard_amino_acids for aa in sequence)\n",
    "\n",
    "# Apply the function to the cleaned sequences\n",
    "fasta_data['Contains_Unusual_Amino_Acid'] = fasta_data['Cleaned_Sequence'].apply(contains_unusual_amino_acid)\n",
    "\n",
    "# Filter rows that still contain unusual amino acids\n",
    "unusual_sequences_after_cleaning = fasta_data[fasta_data['Contains_Unusual_Amino_Acid']]\n",
    "\n",
    "# Display results\n",
    "print(f\"Jumlah sekuens yang masih mengandung huruf tidak biasa setelah pembersihan: {len(unusual_sequences_after_cleaning)}\")\n",
    "display(unusual_sequences_after_cleaning[['Protein_ID', 'Sequence', 'Cleaned_Sequence']])"
   ]
  },
  {
   "cell_type": "code",
   "execution_count": 8,
   "metadata": {},
   "outputs": [
    {
     "name": "stdout",
     "output_type": "stream",
     "text": [
      "Total Counts of Each Amino Acid:\n",
      "     Count  Frequency\n",
      "A  5601393   0.071129\n",
      "C  1504314   0.019102\n",
      "D  4151113   0.052713\n",
      "E  5388873   0.068430\n",
      "F  2930638   0.037215\n",
      "G  5061691   0.064276\n",
      "H  1914456   0.024311\n",
      "I  3879567   0.049265\n",
      "K  4594229   0.058340\n",
      "L  7386109   0.093792\n",
      "M  1776672   0.022561\n",
      "N  3400751   0.043184\n",
      "P  4382337   0.055649\n",
      "Q  3563728   0.045254\n",
      "R  4283020   0.054388\n",
      "S  6493284   0.082455\n",
      "T  4378528   0.055601\n",
      "V  4931367   0.062621\n",
      "W   888449   0.011282\n",
      "Y  2239153   0.028434\n"
     ]
    },
    {
     "name": "stderr",
     "output_type": "stream",
     "text": [
      "C:\\Users\\ruthc\\AppData\\Local\\Temp\\ipykernel_8912\\2045224662.py:35: FutureWarning: \n",
      "\n",
      "Passing `palette` without assigning `hue` is deprecated and will be removed in v0.14.0. Assign the `x` variable to `hue` and set `legend=False` for the same effect.\n",
      "\n",
      "  sns.barplot(x=amino_acid_df.index, y=amino_acid_df['Count'], palette=\"viridis\")\n"
     ]
    },
    {
     "data": {
      "image/png": "[encoded data removed]",
      "text/plain": [
       "<Figure size 1200x600 with 1 Axes>"
      ]
     },
     "metadata": {},
     "output_type": "display_data"
    },
    {
     "name": "stderr",
     "output_type": "stream",
     "text": [
      "C:\\Users\\ruthc\\AppData\\Local\\Temp\\ipykernel_8912\\2045224662.py:42: FutureWarning: \n",
      "\n",
      "Passing `palette` without assigning `hue` is deprecated and will be removed in v0.14.0. Assign the `x` variable to `hue` and set `legend=False` for the same effect.\n",
      "\n",
      "  sns.barplot(x=amino_acid_df.index, y=amino_acid_df['Frequency'], palette=\"viridis\")\n"
     ]
    },
    {
     "data": {
      "image/png": "[encoded data removed]",
      "text/plain": [
       "<Figure size 1200x600 with 1 Axes>"
      ]
     },
     "metadata": {},
     "output_type": "display_data"
    }
   ],
   "source": [
    "import pandas as pd\n",
    "from collections import Counter\n",
    "\n",
    "# Define a function to count amino acids in a sequence, excluding non-standard codes\n",
    "def count_amino_acids(sequence):\n",
    "    standard_amino_acids = \"ACDEFGHIKLMNPQRSTVWY\"\n",
    "    filtered_sequence = ''.join([aa for aa in sequence if aa in standard_amino_acids])\n",
    "    return Counter(filtered_sequence)\n",
    "\n",
    "# Apply the function to each sequence in the dataset\n",
    "fasta_data['Amino_Acid_Counts'] = fasta_data['Sequence'].apply(count_amino_acids)\n",
    "\n",
    "# Aggregate counts across all sequences\n",
    "total_counts = Counter()\n",
    "for counts in fasta_data['Amino_Acid_Counts']:\n",
    "    total_counts.update(counts)\n",
    "\n",
    "# Convert the Counter object to a DataFrame for easier analysis\n",
    "amino_acid_df = pd.DataFrame.from_dict(total_counts, orient='index', columns=['Count'])\n",
    "amino_acid_df = amino_acid_df.sort_index()\n",
    "\n",
    "# Calculate the relative frequency of each amino acid\n",
    "total_amino_acids = amino_acid_df['Count'].sum()\n",
    "amino_acid_df['Frequency'] = amino_acid_df['Count'] / total_amino_acids\n",
    "\n",
    "# Display the results\n",
    "print(\"Total Counts of Each Amino Acid:\")\n",
    "print(amino_acid_df)\n",
    "\n",
    "# Plot the amino acid composition\n",
    "import matplotlib.pyplot as plt\n",
    "import seaborn as sns\n",
    "\n",
    "plt.figure(figsize=(12, 6))\n",
    "sns.barplot(x=amino_acid_df.index, y=amino_acid_df['Count'], palette=\"viridis\")\n",
    "plt.title(\"Komposisi Asam Amino dalam Urutan Protein\")\n",
    "plt.xlabel(\"Asam Amino\")\n",
    "plt.ylabel(\"Jumlah\")\n",
    "plt.show()\n",
    "\n",
    "plt.figure(figsize=(12, 6))\n",
    "sns.barplot(x=amino_acid_df.index, y=amino_acid_df['Frequency'], palette=\"viridis\")\n",
    "plt.title(\"Distribusi Asam Amino pada Sekuens Protein\")\n",
    "plt.xlabel(\"Asam Amino\")\n",
    "plt.ylabel(\"Frekuensi\")\n",
    "plt.show()"
   ]
  },
  {
   "cell_type": "code",
   "execution_count": 38,
   "metadata": {},
   "outputs": [
    {
     "name": "stdout",
     "output_type": "stream",
     "text": [
      "Jumlah Protein_ID dengan panjang sekuens 1200: 22\n"
     ]
    }
   ],
   "source": [
    "# Filter sequences with length exactly 1200\n",
    "sequences_length_1200 = fasta_data[fasta_data['Sequence'].apply(len) == 1200]\n",
    "\n",
    "# Count unique Protein_IDs\n",
    "count_sequences_length_1200 = sequences_length_1200['Protein_ID'].nunique()\n",
    "\n",
    "# Display the count\n",
    "print(f\"Jumlah Protein_ID dengan panjang sekuens 1200: {count_sequences_length_1200}\")"
   ]
  },
  {
   "cell_type": "code",
   "execution_count": 39,
   "metadata": {},
   "outputs": [
    {
     "name": "stdout",
     "output_type": "stream",
     "text": [
      "\n",
      "Protein_ID dengan panjang sekuens 1200:\n"
     ]
    },
    {
     "data": {
      "text/html": [
       "<div>\n",
       "<style scoped>\n",
       "    .dataframe tbody tr th:only-of-type {\n",
       "        vertical-align: middle;\n",
       "    }\n",
       "\n",
       "    .dataframe tbody tr th {\n",
       "        vertical-align: top;\n",
       "    }\n",
       "\n",
       "    .dataframe thead th {\n",
       "        text-align: right;\n",
       "    }\n",
       "</style>\n",
       "<table border=\"1\" class=\"dataframe\">\n",
       "  <thead>\n",
       "    <tr style=\"text-align: right;\">\n",
       "      <th></th>\n",
       "      <th>Protein_ID</th>\n",
       "    </tr>\n",
       "  </thead>\n",
       "  <tbody>\n",
       "    <tr>\n",
       "      <th>3528</th>\n",
       "      <td>Q09530</td>\n",
       "    </tr>\n",
       "    <tr>\n",
       "      <th>4322</th>\n",
       "      <td>Q8BGF7</td>\n",
       "    </tr>\n",
       "    <tr>\n",
       "      <th>12230</th>\n",
       "      <td>Q91684</td>\n",
       "    </tr>\n",
       "    <tr>\n",
       "      <th>14314</th>\n",
       "      <td>Q9SX33</td>\n",
       "    </tr>\n",
       "    <tr>\n",
       "      <th>39410</th>\n",
       "      <td>Q8C419</td>\n",
       "    </tr>\n",
       "    <tr>\n",
       "      <th>60675</th>\n",
       "      <td>Q63627</td>\n",
       "    </tr>\n",
       "    <tr>\n",
       "      <th>62298</th>\n",
       "      <td>Q03720</td>\n",
       "    </tr>\n",
       "    <tr>\n",
       "      <th>62321</th>\n",
       "      <td>Q9EPE9</td>\n",
       "    </tr>\n",
       "    <tr>\n",
       "      <th>67285</th>\n",
       "      <td>Q96PN7</td>\n",
       "    </tr>\n",
       "    <tr>\n",
       "      <th>71517</th>\n",
       "      <td>P59047</td>\n",
       "    </tr>\n",
       "    <tr>\n",
       "      <th>97146</th>\n",
       "      <td>Q9U531</td>\n",
       "    </tr>\n",
       "    <tr>\n",
       "      <th>97349</th>\n",
       "      <td>F1LNY6</td>\n",
       "    </tr>\n",
       "    <tr>\n",
       "      <th>101222</th>\n",
       "      <td>A0A2R8QBA1</td>\n",
       "    </tr>\n",
       "    <tr>\n",
       "      <th>104407</th>\n",
       "      <td>Q7KV90</td>\n",
       "    </tr>\n",
       "    <tr>\n",
       "      <th>104529</th>\n",
       "      <td>Q0E917</td>\n",
       "    </tr>\n",
       "    <tr>\n",
       "      <th>109594</th>\n",
       "      <td>A0A0G2KXQ3</td>\n",
       "    </tr>\n",
       "    <tr>\n",
       "      <th>119251</th>\n",
       "      <td>A0A0J9YVE6</td>\n",
       "    </tr>\n",
       "    <tr>\n",
       "      <th>119775</th>\n",
       "      <td>Q9U472</td>\n",
       "    </tr>\n",
       "    <tr>\n",
       "      <th>121204</th>\n",
       "      <td>Q9VXE9</td>\n",
       "    </tr>\n",
       "    <tr>\n",
       "      <th>122712</th>\n",
       "      <td>F1RC73</td>\n",
       "    </tr>\n",
       "    <tr>\n",
       "      <th>133538</th>\n",
       "      <td>Q9VFH4</td>\n",
       "    </tr>\n",
       "    <tr>\n",
       "      <th>138167</th>\n",
       "      <td>Q5BIG9</td>\n",
       "    </tr>\n",
       "  </tbody>\n",
       "</table>\n",
       "</div>"
      ],
      "text/plain": [
       "        Protein_ID\n",
       "3528        Q09530\n",
       "4322        Q8BGF7\n",
       "12230       Q91684\n",
       "14314       Q9SX33\n",
       "39410       Q8C419\n",
       "60675       Q63627\n",
       "62298       Q03720\n",
       "62321       Q9EPE9\n",
       "67285       Q96PN7\n",
       "71517       P59047\n",
       "97146       Q9U531\n",
       "97349       F1LNY6\n",
       "101222  A0A2R8QBA1\n",
       "104407      Q7KV90\n",
       "104529      Q0E917\n",
       "109594  A0A0G2KXQ3\n",
       "119251  A0A0J9YVE6\n",
       "119775      Q9U472\n",
       "121204      Q9VXE9\n",
       "122712      F1RC73\n",
       "133538      Q9VFH4\n",
       "138167      Q5BIG9"
      ]
     },
     "metadata": {},
     "output_type": "display_data"
    }
   ],
   "source": [
    "# Display the Protein_IDs with sequences of length 1200\n",
    "print(\"\\nProtein_ID dengan panjang sekuens 1200:\")\n",
    "display(sequences_length_1200[['Protein_ID']])"
   ]
  },
  {
   "cell_type": "code",
   "execution_count": 40,
   "metadata": {},
   "outputs": [
    {
     "name": "stdout",
     "output_type": "stream",
     "text": [
      "Jumlah Protein_ID dengan panjang sekuens lebih dari 1200: 10626\n",
      "\n",
      "Protein_ID dengan panjang sekuens lebih dari 1200:\n"
     ]
    },
    {
     "data": {
      "text/html": [
       "<div>\n",
       "<style scoped>\n",
       "    .dataframe tbody tr th:only-of-type {\n",
       "        vertical-align: middle;\n",
       "    }\n",
       "\n",
       "    .dataframe tbody tr th {\n",
       "        vertical-align: top;\n",
       "    }\n",
       "\n",
       "    .dataframe thead th {\n",
       "        text-align: right;\n",
       "    }\n",
       "</style>\n",
       "<table border=\"1\" class=\"dataframe\">\n",
       "  <thead>\n",
       "    <tr style=\"text-align: right;\">\n",
       "      <th></th>\n",
       "      <th>Protein_ID</th>\n",
       "    </tr>\n",
       "  </thead>\n",
       "  <tbody>\n",
       "    <tr>\n",
       "      <th>7</th>\n",
       "      <td>Q16787</td>\n",
       "    </tr>\n",
       "    <tr>\n",
       "      <th>9</th>\n",
       "      <td>P13508</td>\n",
       "    </tr>\n",
       "    <tr>\n",
       "      <th>16</th>\n",
       "      <td>E7EZG2</td>\n",
       "    </tr>\n",
       "    <tr>\n",
       "      <th>44</th>\n",
       "      <td>D3ZEF4</td>\n",
       "    </tr>\n",
       "    <tr>\n",
       "      <th>48</th>\n",
       "      <td>F4IAT2</td>\n",
       "    </tr>\n",
       "    <tr>\n",
       "      <th>...</th>\n",
       "      <td>...</td>\n",
       "    </tr>\n",
       "    <tr>\n",
       "      <th>142203</th>\n",
       "      <td>E7FBD0</td>\n",
       "    </tr>\n",
       "    <tr>\n",
       "      <th>142212</th>\n",
       "      <td>F1R4B2</td>\n",
       "    </tr>\n",
       "    <tr>\n",
       "      <th>142216</th>\n",
       "      <td>A8DY82</td>\n",
       "    </tr>\n",
       "    <tr>\n",
       "      <th>142221</th>\n",
       "      <td>Q9U779</td>\n",
       "    </tr>\n",
       "    <tr>\n",
       "      <th>142237</th>\n",
       "      <td>V9GX91</td>\n",
       "    </tr>\n",
       "  </tbody>\n",
       "</table>\n",
       "<p>10626 rows × 1 columns</p>\n",
       "</div>"
      ],
      "text/plain": [
       "       Protein_ID\n",
       "7          Q16787\n",
       "9          P13508\n",
       "16         E7EZG2\n",
       "44         D3ZEF4\n",
       "48         F4IAT2\n",
       "...           ...\n",
       "142203     E7FBD0\n",
       "142212     F1R4B2\n",
       "142216     A8DY82\n",
       "142221     Q9U779\n",
       "142237     V9GX91\n",
       "\n",
       "[10626 rows x 1 columns]"
      ]
     },
     "metadata": {},
     "output_type": "display_data"
    }
   ],
   "source": [
    "# Filter sequences with length greater than 1200\n",
    "sequences_length_above_1200 = fasta_data[fasta_data['Sequence'].apply(len) > 1200]\n",
    "\n",
    "# Count unique Protein_IDs\n",
    "count_sequences_above_1200 = sequences_length_above_1200['Protein_ID'].nunique()\n",
    "\n",
    "# Display the count\n",
    "print(f\"Jumlah Protein_ID dengan panjang sekuens lebih dari 1200: {count_sequences_above_1200}\")\n",
    "\n",
    "# Display the Protein_IDs with sequences of length above 1200\n",
    "print(\"\\nProtein_ID dengan panjang sekuens lebih dari 1200:\")\n",
    "display(sequences_length_above_1200[['Protein_ID']])"
   ]
  },
  {
   "cell_type": "code",
   "execution_count": 41,
   "metadata": {},
   "outputs": [
    {
     "name": "stdout",
     "output_type": "stream",
     "text": [
      "Protein_ID yang diduplikasi:\n"
     ]
    },
    {
     "data": {
      "text/html": [
       "<div>\n",
       "<style scoped>\n",
       "    .dataframe tbody tr th:only-of-type {\n",
       "        vertical-align: middle;\n",
       "    }\n",
       "\n",
       "    .dataframe tbody tr th {\n",
       "        vertical-align: top;\n",
       "    }\n",
       "\n",
       "    .dataframe thead th {\n",
       "        text-align: right;\n",
       "    }\n",
       "</style>\n",
       "<table border=\"1\" class=\"dataframe\">\n",
       "  <thead>\n",
       "    <tr style=\"text-align: right;\">\n",
       "      <th></th>\n",
       "      <th>Protein_ID</th>\n",
       "    </tr>\n",
       "  </thead>\n",
       "  <tbody>\n",
       "  </tbody>\n",
       "</table>\n",
       "</div>"
      ],
      "text/plain": [
       "Empty DataFrame\n",
       "Columns: [Protein_ID]\n",
       "Index: []"
      ]
     },
     "metadata": {},
     "output_type": "display_data"
    },
    {
     "name": "stdout",
     "output_type": "stream",
     "text": [
      "Jumlah Protein_ID dengan panjang sekuens lebih dari 1200 setelah pemfilteran: 10626\n",
      "\n",
      "Protein_ID dengan panjang sekuens lebih dari 1200:\n"
     ]
    },
    {
     "data": {
      "text/html": [
       "<div>\n",
       "<style scoped>\n",
       "    .dataframe tbody tr th:only-of-type {\n",
       "        vertical-align: middle;\n",
       "    }\n",
       "\n",
       "    .dataframe tbody tr th {\n",
       "        vertical-align: top;\n",
       "    }\n",
       "\n",
       "    .dataframe thead th {\n",
       "        text-align: right;\n",
       "    }\n",
       "</style>\n",
       "<table border=\"1\" class=\"dataframe\">\n",
       "  <thead>\n",
       "    <tr style=\"text-align: right;\">\n",
       "      <th></th>\n",
       "      <th>Protein_ID</th>\n",
       "    </tr>\n",
       "  </thead>\n",
       "  <tbody>\n",
       "    <tr>\n",
       "      <th>7</th>\n",
       "      <td>Q16787</td>\n",
       "    </tr>\n",
       "    <tr>\n",
       "      <th>9</th>\n",
       "      <td>P13508</td>\n",
       "    </tr>\n",
       "    <tr>\n",
       "      <th>16</th>\n",
       "      <td>E7EZG2</td>\n",
       "    </tr>\n",
       "    <tr>\n",
       "      <th>44</th>\n",
       "      <td>D3ZEF4</td>\n",
       "    </tr>\n",
       "    <tr>\n",
       "      <th>48</th>\n",
       "      <td>F4IAT2</td>\n",
       "    </tr>\n",
       "    <tr>\n",
       "      <th>...</th>\n",
       "      <td>...</td>\n",
       "    </tr>\n",
       "    <tr>\n",
       "      <th>142203</th>\n",
       "      <td>E7FBD0</td>\n",
       "    </tr>\n",
       "    <tr>\n",
       "      <th>142212</th>\n",
       "      <td>F1R4B2</td>\n",
       "    </tr>\n",
       "    <tr>\n",
       "      <th>142216</th>\n",
       "      <td>A8DY82</td>\n",
       "    </tr>\n",
       "    <tr>\n",
       "      <th>142221</th>\n",
       "      <td>Q9U779</td>\n",
       "    </tr>\n",
       "    <tr>\n",
       "      <th>142237</th>\n",
       "      <td>V9GX91</td>\n",
       "    </tr>\n",
       "  </tbody>\n",
       "</table>\n",
       "<p>10626 rows × 1 columns</p>\n",
       "</div>"
      ],
      "text/plain": [
       "       Protein_ID\n",
       "7          Q16787\n",
       "9          P13508\n",
       "16         E7EZG2\n",
       "44         D3ZEF4\n",
       "48         F4IAT2\n",
       "...           ...\n",
       "142203     E7FBD0\n",
       "142212     F1R4B2\n",
       "142216     A8DY82\n",
       "142221     Q9U779\n",
       "142237     V9GX91\n",
       "\n",
       "[10626 rows x 1 columns]"
      ]
     },
     "metadata": {},
     "output_type": "display_data"
    }
   ],
   "source": [
    "# Pemeriksaan untuk duplikasi Protein_ID\n",
    "duplicate_protein_ids = fasta_data[fasta_data.duplicated(subset=['Protein_ID'], keep=False)]\n",
    "print(\"Protein_ID yang diduplikasi:\")\n",
    "display(duplicate_protein_ids[['Protein_ID']])\n",
    "\n",
    "# Pemfilteran dengan kondisi yang sesuai\n",
    "filtered_data = fasta_data[fasta_data['Sequence'].apply(len) > 1200]\n",
    "\n",
    "# Menghitung jumlah unik Protein_ID setelah pemfilteran\n",
    "count_filtered_protein_ids = filtered_data['Protein_ID'].nunique()\n",
    "print(f\"Jumlah Protein_ID dengan panjang sekuens lebih dari 1200 setelah pemfilteran: {count_filtered_protein_ids}\")\n",
    "\n",
    "# Menampilkan Protein_ID setelah pemfilteran\n",
    "print(\"\\nProtein_ID dengan panjang sekuens lebih dari 1200:\")\n",
    "display(filtered_data[['Protein_ID']])"
   ]
  },
  {
   "cell_type": "code",
   "execution_count": 43,
   "metadata": {},
   "outputs": [
    {
     "name": "stdout",
     "output_type": "stream",
     "text": [
      "Jumlah Protein_ID dengan jumlah sekuens kurang dari 1200: 131598\n",
      "\n",
      "Protein_ID dengan jumlah sekuens kurang dari 1200:\n"
     ]
    },
    {
     "data": {
      "text/html": [
       "<div>\n",
       "<style scoped>\n",
       "    .dataframe tbody tr th:only-of-type {\n",
       "        vertical-align: middle;\n",
       "    }\n",
       "\n",
       "    .dataframe tbody tr th {\n",
       "        vertical-align: top;\n",
       "    }\n",
       "\n",
       "    .dataframe thead th {\n",
       "        text-align: right;\n",
       "    }\n",
       "</style>\n",
       "<table border=\"1\" class=\"dataframe\">\n",
       "  <thead>\n",
       "    <tr style=\"text-align: right;\">\n",
       "      <th></th>\n",
       "      <th>Protein_ID</th>\n",
       "    </tr>\n",
       "  </thead>\n",
       "  <tbody>\n",
       "    <tr>\n",
       "      <th>0</th>\n",
       "      <td>P20536</td>\n",
       "    </tr>\n",
       "    <tr>\n",
       "      <th>1</th>\n",
       "      <td>O73864</td>\n",
       "    </tr>\n",
       "    <tr>\n",
       "      <th>2</th>\n",
       "      <td>O95231</td>\n",
       "    </tr>\n",
       "    <tr>\n",
       "      <th>3</th>\n",
       "      <td>A0A0B4J1F4</td>\n",
       "    </tr>\n",
       "    <tr>\n",
       "      <th>4</th>\n",
       "      <td>P54366</td>\n",
       "    </tr>\n",
       "    <tr>\n",
       "      <th>...</th>\n",
       "      <td>...</td>\n",
       "    </tr>\n",
       "    <tr>\n",
       "      <th>142241</th>\n",
       "      <td>A0A286YAI0</td>\n",
       "    </tr>\n",
       "    <tr>\n",
       "      <th>142242</th>\n",
       "      <td>A0A1D5NUC4</td>\n",
       "    </tr>\n",
       "    <tr>\n",
       "      <th>142243</th>\n",
       "      <td>Q5RGB0</td>\n",
       "    </tr>\n",
       "    <tr>\n",
       "      <th>142244</th>\n",
       "      <td>A0A2R8QMZ5</td>\n",
       "    </tr>\n",
       "    <tr>\n",
       "      <th>142245</th>\n",
       "      <td>A0A8I6GHU0</td>\n",
       "    </tr>\n",
       "  </tbody>\n",
       "</table>\n",
       "<p>131598 rows × 1 columns</p>\n",
       "</div>"
      ],
      "text/plain": [
       "        Protein_ID\n",
       "0           P20536\n",
       "1           O73864\n",
       "2           O95231\n",
       "3       A0A0B4J1F4\n",
       "4           P54366\n",
       "...            ...\n",
       "142241  A0A286YAI0\n",
       "142242  A0A1D5NUC4\n",
       "142243      Q5RGB0\n",
       "142244  A0A2R8QMZ5\n",
       "142245  A0A8I6GHU0\n",
       "\n",
       "[131598 rows x 1 columns]"
      ]
     },
     "metadata": {},
     "output_type": "display_data"
    }
   ],
   "source": [
    "# Filter sequences with length less than 1200\n",
    "sequences_length_below_1200 = fasta_data[fasta_data['Sequence'].apply(len) < 1200]\n",
    "\n",
    "# Count unique Protein_IDs\n",
    "count_sequences_below_1200 = sequences_length_below_1200['Protein_ID'].nunique()\n",
    "\n",
    "# Display the count\n",
    "print(f\"Jumlah Protein_ID dengan jumlah sekuens kurang dari 1200: {count_sequences_below_1200}\")\n",
    "\n",
    "# Display the Protein_IDs with sequences of length below 1200\n",
    "print(\"\\nProtein_ID dengan jumlah sekuens kurang dari 1200:\")\n",
    "display(sequences_length_below_1200[['Protein_ID']])"
   ]
  },
  {
   "cell_type": "code",
   "execution_count": 44,
   "metadata": {},
   "outputs": [
    {
     "name": "stdout",
     "output_type": "stream",
     "text": [
      "Jumlah Protein_ID dengan jumlah sekuens kurang dari atau sama dengan 1200: 131620\n",
      "\n",
      "Protein_ID dengan jumlah sekuens kurang dari atau sama dengan 1200:\n"
     ]
    },
    {
     "data": {
      "text/html": [
       "<div>\n",
       "<style scoped>\n",
       "    .dataframe tbody tr th:only-of-type {\n",
       "        vertical-align: middle;\n",
       "    }\n",
       "\n",
       "    .dataframe tbody tr th {\n",
       "        vertical-align: top;\n",
       "    }\n",
       "\n",
       "    .dataframe thead th {\n",
       "        text-align: right;\n",
       "    }\n",
       "</style>\n",
       "<table border=\"1\" class=\"dataframe\">\n",
       "  <thead>\n",
       "    <tr style=\"text-align: right;\">\n",
       "      <th></th>\n",
       "      <th>Protein_ID</th>\n",
       "    </tr>\n",
       "  </thead>\n",
       "  <tbody>\n",
       "    <tr>\n",
       "      <th>0</th>\n",
       "      <td>P20536</td>\n",
       "    </tr>\n",
       "    <tr>\n",
       "      <th>1</th>\n",
       "      <td>O73864</td>\n",
       "    </tr>\n",
       "    <tr>\n",
       "      <th>2</th>\n",
       "      <td>O95231</td>\n",
       "    </tr>\n",
       "    <tr>\n",
       "      <th>3</th>\n",
       "      <td>A0A0B4J1F4</td>\n",
       "    </tr>\n",
       "    <tr>\n",
       "      <th>4</th>\n",
       "      <td>P54366</td>\n",
       "    </tr>\n",
       "    <tr>\n",
       "      <th>...</th>\n",
       "      <td>...</td>\n",
       "    </tr>\n",
       "    <tr>\n",
       "      <th>142241</th>\n",
       "      <td>A0A286YAI0</td>\n",
       "    </tr>\n",
       "    <tr>\n",
       "      <th>142242</th>\n",
       "      <td>A0A1D5NUC4</td>\n",
       "    </tr>\n",
       "    <tr>\n",
       "      <th>142243</th>\n",
       "      <td>Q5RGB0</td>\n",
       "    </tr>\n",
       "    <tr>\n",
       "      <th>142244</th>\n",
       "      <td>A0A2R8QMZ5</td>\n",
       "    </tr>\n",
       "    <tr>\n",
       "      <th>142245</th>\n",
       "      <td>A0A8I6GHU0</td>\n",
       "    </tr>\n",
       "  </tbody>\n",
       "</table>\n",
       "<p>131620 rows × 1 columns</p>\n",
       "</div>"
      ],
      "text/plain": [
       "        Protein_ID\n",
       "0           P20536\n",
       "1           O73864\n",
       "2           O95231\n",
       "3       A0A0B4J1F4\n",
       "4           P54366\n",
       "...            ...\n",
       "142241  A0A286YAI0\n",
       "142242  A0A1D5NUC4\n",
       "142243      Q5RGB0\n",
       "142244  A0A2R8QMZ5\n",
       "142245  A0A8I6GHU0\n",
       "\n",
       "[131620 rows x 1 columns]"
      ]
     },
     "metadata": {},
     "output_type": "display_data"
    }
   ],
   "source": [
    "# Filter sequences with length less than or equal to 1200\n",
    "sequences_length_at_most_1200 = fasta_data[fasta_data['Sequence'].apply(len) <= 1200]\n",
    "\n",
    "# Count unique Protein_IDs\n",
    "count_sequences_at_most_1200 = sequences_length_at_most_1200['Protein_ID'].nunique()\n",
    "\n",
    "# Display the count\n",
    "print(f\"Jumlah Protein_ID dengan jumlah sekuens kurang dari atau sama dengan 1200: {count_sequences_at_most_1200}\")\n",
    "\n",
    "# Display the Protein_IDs with sequences of length at most 1200\n",
    "print(\"\\nProtein_ID dengan jumlah sekuens kurang dari atau sama dengan 1200:\")\n",
    "display(sequences_length_at_most_1200[['Protein_ID']])"
   ]
  },
  {
   "cell_type": "code",
   "execution_count": 42,
   "metadata": {},
   "outputs": [
    {
     "name": "stdout",
     "output_type": "stream",
     "text": [
      "Jumlah total Protein_ID: 142246\n"
     ]
    }
   ],
   "source": [
    "# Menghitung jumlah unik Protein_ID\n",
    "total_protein_ids = fasta_data['Protein_ID'].nunique()\n",
    "\n",
    "# Menampilkan jumlah total Protein_ID\n",
    "print(f\"Jumlah total Protein_ID: {total_protein_ids}\")"
   ]
  },
  {
   "cell_type": "code",
   "execution_count": 32,
   "metadata": {},
   "outputs": [
    {
     "name": "stdout",
     "output_type": "stream",
     "text": [
      "Sum of all frequencies: 0.9999999999999999\n"
     ]
    }
   ],
   "source": [
    "# Sum the frequencies to check if they equal 1\n",
    "frequency_sum = amino_acid_df['Frequency'].sum()\n",
    "print(f\"Sum of all frequencies: {frequency_sum}\")"
   ]
  },
  {
   "cell_type": "code",
   "execution_count": 7,
   "metadata": {},
   "outputs": [
    {
     "name": "stderr",
     "output_type": "stream",
     "text": [
      "C:\\Users\\ruthc\\AppData\\Local\\Temp\\ipykernel_25028\\1995131417.py:7: ParserWarning: Falling back to the 'python' engine because the 'c' engine does not support regex separators (separators > 1 char and different from '\\s+' are interpreted as regex); you can avoid this warning by specifying engine='python'.\n",
      "  terms_data = pd.read_csv(terms_path, sep='/t', header=None, names=['Entry_ID', 'GO_Term_ID', 'Ontology'], skiprows=1)\n"
     ]
    },
    {
     "name": "stdout",
     "output_type": "stream",
     "text": [
      "/nFiltered Data:\n"
     ]
    },
    {
     "data": {
      "text/html": [
       "<div>\n",
       "<style scoped>\n",
       "    .dataframe tbody tr th:only-of-type {\n",
       "        vertical-align: middle;\n",
       "    }\n",
       "\n",
       "    .dataframe tbody tr th {\n",
       "        vertical-align: top;\n",
       "    }\n",
       "\n",
       "    .dataframe thead th {\n",
       "        text-align: right;\n",
       "    }\n",
       "</style>\n",
       "<table border=\"1\" class=\"dataframe\">\n",
       "  <thead>\n",
       "    <tr style=\"text-align: right;\">\n",
       "      <th></th>\n",
       "      <th>Entry_ID</th>\n",
       "      <th>GO_Term_ID</th>\n",
       "      <th>Ontology</th>\n",
       "    </tr>\n",
       "  </thead>\n",
       "  <tbody>\n",
       "  </tbody>\n",
       "</table>\n",
       "</div>"
      ],
      "text/plain": [
       "Empty DataFrame\n",
       "Columns: [Entry_ID, GO_Term_ID, Ontology]\n",
       "Index: []"
      ]
     },
     "metadata": {},
     "output_type": "display_data"
    }
   ],
   "source": [
    "import pandas as pd\n",
    "\n",
    "# Path to the terms data file\n",
    "terms_path = \"C:/Users/ruthc/OneDrive/Desktop/SEMESTER 8/TA II/Eksperimen TAII/Train/train_terms.tsv\"\n",
    "\n",
    "# Read the terms data, skipping the first row\n",
    "terms_data = pd.read_csv(terms_path, sep='/t', header=None, names=['Entry_ID', 'GO_Term_ID', 'Ontology'], skiprows=1)\n",
    "\n",
    "# Filter the data for Protein_ID Q9CQV8\n",
    "filtered_data = terms_data[terms_data['Entry_ID'] == 'Q9CQV8']\n",
    "\n",
    "# Display the filtered data\n",
    "print(\"/nFiltered Data:\")\n",
    "display(filtered_data)"
   ]
  },
  {
   "cell_type": "code",
   "execution_count": null,
   "metadata": {},
   "outputs": [
    {
     "name": "stdout",
     "output_type": "stream",
     "text": [
      "\n",
      "Filtered Data for Protein_ID P62259:\n"
     ]
    },
    {
     "data": {
      "text/html": [
       "<div>\n",
       "<style scoped>\n",
       "    .dataframe tbody tr th:only-of-type {\n",
       "        vertical-align: middle;\n",
       "    }\n",
       "\n",
       "    .dataframe tbody tr th {\n",
       "        vertical-align: top;\n",
       "    }\n",
       "\n",
       "    .dataframe thead th {\n",
       "        text-align: right;\n",
       "    }\n",
       "</style>\n",
       "<table border=\"1\" class=\"dataframe\">\n",
       "  <thead>\n",
       "    <tr style=\"text-align: right;\">\n",
       "      <th></th>\n",
       "      <th>Entry_ID</th>\n",
       "      <th>GO_Term_ID</th>\n",
       "      <th>Ontology</th>\n",
       "    </tr>\n",
       "  </thead>\n",
       "  <tbody>\n",
       "    <tr>\n",
       "      <th>1583252</th>\n",
       "      <td>P62259</td>\n",
       "      <td>GO:0021766</td>\n",
       "      <td>BPO</td>\n",
       "    </tr>\n",
       "    <tr>\n",
       "      <th>1583253</th>\n",
       "      <td>P62259</td>\n",
       "      <td>GO:0048869</td>\n",
       "      <td>BPO</td>\n",
       "    </tr>\n",
       "    <tr>\n",
       "      <th>1583254</th>\n",
       "      <td>P62259</td>\n",
       "      <td>GO:0051641</td>\n",
       "      <td>BPO</td>\n",
       "    </tr>\n",
       "    <tr>\n",
       "      <th>1583255</th>\n",
       "      <td>P62259</td>\n",
       "      <td>GO:0048856</td>\n",
       "      <td>BPO</td>\n",
       "    </tr>\n",
       "    <tr>\n",
       "      <th>1583256</th>\n",
       "      <td>P62259</td>\n",
       "      <td>GO:0051172</td>\n",
       "      <td>BPO</td>\n",
       "    </tr>\n",
       "    <tr>\n",
       "      <th>...</th>\n",
       "      <td>...</td>\n",
       "      <td>...</td>\n",
       "      <td>...</td>\n",
       "    </tr>\n",
       "    <tr>\n",
       "      <th>4992747</th>\n",
       "      <td>P62259</td>\n",
       "      <td>GO:0019899</td>\n",
       "      <td>MFO</td>\n",
       "    </tr>\n",
       "    <tr>\n",
       "      <th>4992748</th>\n",
       "      <td>P62259</td>\n",
       "      <td>GO:0019902</td>\n",
       "      <td>MFO</td>\n",
       "    </tr>\n",
       "    <tr>\n",
       "      <th>4992749</th>\n",
       "      <td>P62259</td>\n",
       "      <td>GO:0003674</td>\n",
       "      <td>MFO</td>\n",
       "    </tr>\n",
       "    <tr>\n",
       "      <th>4992750</th>\n",
       "      <td>P62259</td>\n",
       "      <td>GO:0005515</td>\n",
       "      <td>MFO</td>\n",
       "    </tr>\n",
       "    <tr>\n",
       "      <th>4992751</th>\n",
       "      <td>P62259</td>\n",
       "      <td>GO:0019903</td>\n",
       "      <td>MFO</td>\n",
       "    </tr>\n",
       "  </tbody>\n",
       "</table>\n",
       "<p>83 rows × 3 columns</p>\n",
       "</div>"
      ],
      "text/plain": [
       "        Entry_ID  GO_Term_ID Ontology\n",
       "1583252   P62259  GO:0021766      BPO\n",
       "1583253   P62259  GO:0048869      BPO\n",
       "1583254   P62259  GO:0051641      BPO\n",
       "1583255   P62259  GO:0048856      BPO\n",
       "1583256   P62259  GO:0051172      BPO\n",
       "...          ...         ...      ...\n",
       "4992747   P62259  GO:0019899      MFO\n",
       "4992748   P62259  GO:0019902      MFO\n",
       "4992749   P62259  GO:0003674      MFO\n",
       "4992750   P62259  GO:0005515      MFO\n",
       "4992751   P62259  GO:0019903      MFO\n",
       "\n",
       "[83 rows x 3 columns]"
      ]
     },
     "metadata": {},
     "output_type": "display_data"
    }
   ],
   "source": [
    "import pandas as pd\n",
    "\n",
    "# Path to the terms data file\n",
    "terms_path = \"D:/Artefak TASI-2324-101/Kode Implementasi TA/Train/train_terms.tsv\"\n",
    "\n",
    "# Read the terms data, skipping the first row\n",
    "terms_data = pd.read_csv(terms_path, sep='\\t', header=None, names=['Entry_ID', 'GO_Term_ID', 'Ontology'], skiprows=1)\n",
    "\n",
    "# Check for the presence of the Protein_ID 'Q9CQV8'\n",
    "protein_id = 'Q9CQV8'\n",
    "if protein_id in terms_data['Entry_ID'].values:\n",
    "    # Filter the data for Protein_ID Q9CQV8\n",
    "    filtered_data = terms_data[terms_data['Entry_ID'] == protein_id]\n",
    "\n",
    "    # Display the filtered data\n",
    "    print(f\"\\nFiltered Data for Protein_ID {protein_id}:\")\n",
    "    display(filtered_data)\n",
    "else:\n",
    "    print(f\"\\nProtein_ID {protein_id} not found in the data.\")\n"
   ]
  },
  {
   "cell_type": "markdown",
   "metadata": {},
   "source": [
    "Data Train"
   ]
  },
  {
   "cell_type": "code",
   "execution_count": null,
   "metadata": {},
   "outputs": [],
   "source": [
    "fasta_data.describe()"
   ]
  },
  {
   "cell_type": "code",
   "execution_count": null,
   "metadata": {},
   "outputs": [],
   "source": [
    "fasta_data.nunique()"
   ]
  },
  {
   "cell_type": "code",
   "execution_count": null,
   "metadata": {},
   "outputs": [],
   "source": [
    "terms_data.describe()"
   ]
  },
  {
   "cell_type": "code",
   "execution_count": null,
   "metadata": {},
   "outputs": [],
   "source": [
    "terms_data.nunique()"
   ]
  },
  {
   "cell_type": "code",
   "execution_count": null,
   "metadata": {},
   "outputs": [],
   "source": [
    "import pandas as pd\n",
    "\n",
    "# Asumsikan merged_data adalah DataFrame yang sudah ada\n",
    "# Tambahkan kolom baru untuk panjang sekuens jika belum ada\n",
    "fasta_data['Sequence_Length'] = fasta_data['Sequence'].apply(len)\n",
    "\n",
    "# Menggunakan describe()\n",
    "summary_stats = fasta_data['Sequence_Length'].describe()\n",
    "print(\"Ringkasan Statistik:\")\n",
    "print(summary_stats)\n",
    "\n",
    "# Menggunakan quantile()\n",
    "quantiles = fasta_data['Sequence_Length'].quantile([0.25, 0.50, 0.75])\n",
    "print(\"\\nPersentil 25%, 50%, dan 75%:\")\n",
    "print(quantiles)"
   ]
  },
  {
   "cell_type": "code",
   "execution_count": null,
   "metadata": {},
   "outputs": [],
   "source": [
    "import pandas as pd\n",
    "from collections import Counter\n",
    "\n",
    "# Define a function to count amino acids in a sequence\n",
    "def count_amino_acids(sequence):\n",
    "    return Counter(sequence)\n",
    "\n",
    "# Apply the function to each sequence in the dataset\n",
    "fasta_data['Amino_Acid_Counts'] = fasta_data['Sequence'].apply(count_amino_acids)\n",
    "\n",
    "# Aggregate counts across all sequences\n",
    "total_counts = Counter()\n",
    "for counts in fasta_data['Amino_Acid_Counts']:\n",
    "    total_counts.update(counts)\n",
    "\n",
    "# Convert the Counter object to a DataFrame for easier analysis\n",
    "amino_acid_df = pd.DataFrame.from_dict(total_counts, orient='index', columns=['Count'])\n",
    "amino_acid_df = amino_acid_df.sort_index()\n",
    "\n",
    "# Calculate the relative frequency of each amino acid\n",
    "total_amino_acids = amino_acid_df['Count'].sum()\n",
    "amino_acid_df['Frequency'] = amino_acid_df['Count'] / total_amino_acids\n",
    "\n",
    "# Display the results\n",
    "print(\"Total Counts of Each Amino Acid:\")\n",
    "print(amino_acid_df)"
   ]
  },
  {
   "cell_type": "code",
   "execution_count": null,
   "metadata": {},
   "outputs": [],
   "source": [
    "import pandas as pd\n",
    "from collections import Counter\n",
    "\n",
    "# Define a function to count amino acids in a sequence, excluding non-standard codes\n",
    "def count_amino_acids(sequence):\n",
    "    standard_amino_acids = \"ACDEFGHIKLMNPQRSTVWY\"\n",
    "    filtered_sequence = ''.join([aa for aa in sequence if aa in standard_amino_acids])\n",
    "    return Counter(filtered_sequence)\n",
    "\n",
    "# Apply the function to each sequence in the dataset\n",
    "fasta_data['Amino_Acid_Counts'] = fasta_data['Sequence'].apply(count_amino_acids)\n",
    "\n",
    "# Aggregate counts across all sequences\n",
    "total_counts = Counter()\n",
    "for counts in fasta_data['Amino_Acid_Counts']:\n",
    "    total_counts.update(counts)\n",
    "\n",
    "# Convert the Counter object to a DataFrame for easier analysis\n",
    "amino_acid_df = pd.DataFrame.from_dict(total_counts, orient='index', columns=['Count'])\n",
    "amino_acid_df = amino_acid_df.sort_index()\n",
    "\n",
    "# Calculate the relative frequency of each amino acid\n",
    "total_amino_acids = amino_acid_df['Count'].sum()\n",
    "amino_acid_df['Frequency'] = amino_acid_df['Count'] / total_amino_acids\n",
    "\n",
    "# Display the results\n",
    "print(\"Total Counts of Each Amino Acid:\")\n",
    "print(amino_acid_df)"
   ]
  },
  {
   "cell_type": "code",
   "execution_count": null,
   "metadata": {},
   "outputs": [],
   "source": [
    "import pandas as pd\n",
    "\n",
    "# Asumsikan merged_data adalah DataFrame yang sudah ada dan memiliki kolom 'Sequence'\n",
    "# Tambahkan kolom baru untuk panjang sekuens jika belum ada\n",
    "fasta_data['Sequence_Length'] = fasta_data['Sequence'].apply(len)\n",
    "\n",
    "# Hitung total panjang semua sekuens\n",
    "total_length = fasta_data['Sequence_Length'].sum()\n",
    "\n",
    "# Hitung jumlah sekuens\n",
    "total_sequences = fasta_data['Sequence_Length'].count()\n",
    "\n",
    "# Hitung rata-rata panjang sekuens\n",
    "mean_length = total_length / total_sequences\n",
    "\n",
    "# Tampilkan hasil\n",
    "print(f\"Total panjang semua sekuens: {total_length}\")\n",
    "print(f\"Jumlah sekuens: {total_sequences}\")\n",
    "print(f\"Rata-rata panjang sekuens: {mean_length}\")"
   ]
  },
  {
   "cell_type": "code",
   "execution_count": null,
   "metadata": {},
   "outputs": [],
   "source": [
    "import pandas as pd\n",
    "import matplotlib.pyplot as plt\n",
    "import seaborn as sns\n",
    "\n",
    "# Asumsikan merged_data adalah DataFrame yang sudah ada dan memiliki kolom 'Sequence'\n",
    "# Tambahkan kolom baru untuk panjang sekuens jika belum ada\n",
    "fasta_data['Sequence_Length'] = fasta_data['Sequence'].apply(len)\n",
    "\n",
    "# Mengatur ukuran plot\n",
    "plt.figure(figsize=(12, 6))\n",
    "\n",
    "# Membuat histogram distribusi panjang sekuens\n",
    "plt.subplot(1, 2, 1)\n",
    "sns.histplot(fasta_data['Sequence_Length'], bins=50, kde=True)\n",
    "plt.title('Histogram Distribusi Panjang Sekuens')\n",
    "plt.xlabel('Panjang Sekuens')\n",
    "plt.ylabel('Frekuensi')\n",
    "\n",
    "# Menampilkan plot\n",
    "plt.tight_layout()\n",
    "plt.show()"
   ]
  },
  {
   "cell_type": "code",
   "execution_count": null,
   "metadata": {},
   "outputs": [],
   "source": [
    "import pandas as pd\n",
    "\n",
    "# Misalkan merged_data adalah DataFrame yang sudah ada dan memiliki kolom 'Sequence_Length'\n",
    "percentiles = fasta_data['Sequence_Length'].quantile([0.25, 0.5, 0.75, 0.9, 0.95])\n",
    "print(percentiles)"
   ]
  },
  {
   "cell_type": "code",
   "execution_count": null,
   "metadata": {},
   "outputs": [],
   "source": [
    "padding_length = percentiles[0.95]\n",
    "print(f\"Panjang padding yang optimal berdasarkan persentil ke-95: {padding_length}\")"
   ]
  },
  {
   "cell_type": "markdown",
   "metadata": {},
   "source": [
    "TEST DATA"
   ]
  },
  {
   "cell_type": "code",
   "execution_count": null,
   "metadata": {},
   "outputs": [],
   "source": [
    "fasta_target_path = \"C:/Users/ruthc/OneDrive/Desktop/SEMESTER 8/TA II/CAFA5/Test (Targets)/testsuperset.fasta\""
   ]
  },
  {
   "cell_type": "code",
   "execution_count": null,
   "metadata": {},
   "outputs": [],
   "source": [
    "fasta_target_path = pd.DataFrame([(record.id, str(record.seq)) for record in SeqIO.parse(fasta_target_path, \"fasta\")], columns=['Protein_ID', 'Sequence'])"
   ]
  },
  {
   "cell_type": "code",
   "execution_count": null,
   "metadata": {},
   "outputs": [],
   "source": [
    "print(\"Fasta Data:\")\n",
    "display(fasta_target_path.head())"
   ]
  },
  {
   "cell_type": "code",
   "execution_count": null,
   "metadata": {},
   "outputs": [],
   "source": [
    "fasta_target_path.describe()"
   ]
  },
  {
   "cell_type": "code",
   "execution_count": null,
   "metadata": {},
   "outputs": [],
   "source": [
    "fasta_target_path.nunique()"
   ]
  },
  {
   "cell_type": "code",
   "execution_count": null,
   "metadata": {},
   "outputs": [],
   "source": [
    "import pandas as pd\n",
    "\n",
    "# Asumsikan merged_data adalah DataFrame yang sudah ada\n",
    "# Tambahkan kolom baru untuk panjang sekuens jika belum ada\n",
    "fasta_target_path['Sequence_Length'] = fasta_target_path['Sequence'].apply(len)\n",
    "\n",
    "# Menggunakan describe()\n",
    "summary_stats = fasta_target_path['Sequence_Length'].describe()\n",
    "print(\"Ringkasan Statistik:\")\n",
    "print(summary_stats)\n",
    "\n",
    "# Menggunakan quantile()\n",
    "quantiles = fasta_target_path['Sequence_Length'].quantile([0.25, 0.50, 0.75])\n",
    "print(\"\\nPersentil 25%, 50%, dan 75%:\")\n",
    "print(quantiles)"
   ]
  },
  {
   "cell_type": "markdown",
   "metadata": {},
   "source": [
    "Gabungan data"
   ]
  },
  {
   "cell_type": "code",
   "execution_count": null,
   "metadata": {},
   "outputs": [],
   "source": [
    "merged_data = pd.merge(fasta_data, terms_data, on='Protein_ID')"
   ]
  },
  {
   "cell_type": "code",
   "execution_count": null,
   "metadata": {},
   "outputs": [],
   "source": [
    "merged_data"
   ]
  },
  {
   "cell_type": "code",
   "execution_count": null,
   "metadata": {},
   "outputs": [],
   "source": [
    "merged_data.nunique()"
   ]
  },
  {
   "cell_type": "code",
   "execution_count": null,
   "metadata": {},
   "outputs": [],
   "source": [
    "merged_data.describe()"
   ]
  },
  {
   "cell_type": "code",
   "execution_count": null,
   "metadata": {},
   "outputs": [],
   "source": [
    "import pandas as pd\n",
    "\n",
    "# Asumsikan merged_data adalah DataFrame yang sudah ada\n",
    "merged_data['Sequence_Length'] = merged_data['Sequence'].apply(len)\n",
    "\n",
    "# Tampilkan DataFrame dengan kolom panjang sekuens\n",
    "print(merged_data[['Sequence', 'Sequence_Length']])"
   ]
  },
  {
   "cell_type": "code",
   "execution_count": null,
   "metadata": {},
   "outputs": [],
   "source": [
    "import pandas as pd\n",
    "\n",
    "# Asumsikan merged_data adalah DataFrame yang sudah ada\n",
    "merged_data['Sequence_Length'] = merged_data['Sequence'].apply(len)\n",
    "\n",
    "# Temukan panjang sekuens maksimum\n",
    "max_length = merged_data['Sequence_Length'].max()\n",
    "\n",
    "# Temukan baris dengan panjang sekuens maksimum\n",
    "longest_sequence = merged_data[merged_data['Sequence_Length'] == max_length]\n",
    "\n",
    "# Tampilkan sekuens terpanjang\n",
    "print(longest_sequence[['Sequence', 'Sequence_Length']])"
   ]
  },
  {
   "cell_type": "code",
   "execution_count": null,
   "metadata": {},
   "outputs": [],
   "source": [
    "import pandas as pd\n",
    "\n",
    "# Asumsikan merged_data adalah DataFrame yang sudah ada\n",
    "merged_data['Sequence_Length'] = merged_data['Sequence'].apply(len)\n",
    "\n",
    "# Hitung jumlah panjang semua sekuens\n",
    "total_length = merged_data['Sequence_Length'].sum()\n",
    "\n",
    "# Tampilkan hasil\n",
    "print(f'Total panjang semua sekuens protein: {total_length}')"
   ]
  },
  {
   "cell_type": "code",
   "execution_count": null,
   "metadata": {},
   "outputs": [],
   "source": [
    "import pandas as pd\n",
    "\n",
    "# Asumsikan merged_data adalah DataFrame yang sudah ada\n",
    "merged_data['Sequence_Length'] = merged_data['Sequence'].apply(len)\n",
    "\n",
    "# Hitung standar deviasi panjang semua sekuens\n",
    "std_length = merged_data['Sequence_Length'].std()\n",
    "\n",
    "# Tampilkan hasil\n",
    "print(f'Standar deviasi panjang semua sekuens protein: {std_length}')"
   ]
  },
  {
   "cell_type": "code",
   "execution_count": null,
   "metadata": {},
   "outputs": [],
   "source": [
    "import pandas as pd\n",
    "\n",
    "# Asumsikan merged_data adalah DataFrame yang sudah ada\n",
    "merged_data['Sequence_Length'] = merged_data['Sequence'].apply(len)\n",
    "\n",
    "# Hitung nilai minimum panjang semua sekuens\n",
    "min_length = merged_data['Sequence_Length'].min()\n",
    "\n",
    "# Tampilkan hasil\n",
    "print(f'Nilai minimum panjang semua sekuens protein: {min_length}')"
   ]
  },
  {
   "cell_type": "code",
   "execution_count": null,
   "metadata": {},
   "outputs": [],
   "source": [
    "import pandas as pd\n",
    "\n",
    "# Asumsikan merged_data adalah DataFrame yang sudah ada\n",
    "# Tambahkan kolom baru untuk panjang sekuens jika belum ada\n",
    "merged_data['Sequence_Length'] = merged_data['Sequence'].apply(len)\n",
    "\n",
    "# Menggunakan describe()\n",
    "summary_stats = merged_data['Sequence_Length'].describe()\n",
    "print(\"Ringkasan Statistik:\")\n",
    "print(summary_stats)\n",
    "\n",
    "# Menggunakan quantile()\n",
    "quantiles = merged_data['Sequence_Length'].quantile([0.25, 0.50, 0.75])\n",
    "print(\"\\nPersentil 25%, 50%, dan 75%:\")\n",
    "print(quantiles)"
   ]
  },
  {
   "cell_type": "code",
   "execution_count": null,
   "metadata": {},
   "outputs": [],
   "source": [
    "import pandas as pd\n",
    "\n",
    "# Asumsikan merged_data adalah DataFrame yang sudah ada\n",
    "merged_data['Sequence_Length'] = merged_data['Sequence'].apply(len)\n",
    "\n",
    "# Hitung rata-rata panjang sekuens\n",
    "average_length = merged_data['Sequence_Length'].mean()\n",
    "\n",
    "# Tampilkan hasil\n",
    "print(f\"Rata-rata panjang sekuens dalam dataset adalah: {average_length}\")"
   ]
  },
  {
   "cell_type": "markdown",
   "metadata": {},
   "source": [
    "DATA PKL"
   ]
  },
  {
   "cell_type": "code",
   "execution_count": null,
   "metadata": {},
   "outputs": [],
   "source": [
    "import pickle"
   ]
  },
  {
   "cell_type": "code",
   "execution_count": null,
   "metadata": {},
   "outputs": [],
   "source": [
    "with open('D:/TASI-101/CAFA5/trainCAFA5.pkl', 'rb') as f:\n",
    "    data1 = pickle.load(f)"
   ]
  },
  {
   "cell_type": "code",
   "execution_count": null,
   "metadata": {},
   "outputs": [],
   "source": [
    "data1"
   ]
  },
  {
   "cell_type": "code",
   "execution_count": null,
   "metadata": {},
   "outputs": [],
   "source": [
    "data1.nunique()"
   ]
  },
  {
   "cell_type": "code",
   "execution_count": null,
   "metadata": {},
   "outputs": [],
   "source": [
    "with open('D:/TASI-101/CAFA5/termsCAFA5.pkl', 'rb') as f:\n",
    "    data2 = pickle.load(f)"
   ]
  },
  {
   "cell_type": "code",
   "execution_count": null,
   "metadata": {},
   "outputs": [],
   "source": [
    "data2"
   ]
  },
  {
   "cell_type": "code",
   "execution_count": null,
   "metadata": {},
   "outputs": [],
   "source": [
    "data2.nunique()"
   ]
  },
  {
   "cell_type": "code",
   "execution_count": null,
   "metadata": {},
   "outputs": [],
   "source": [
    "with open('D:/TASI-101/CAFA5/testCAFA5.pkl', 'rb') as f:\n",
    "    data3 = pickle.load(f)"
   ]
  },
  {
   "cell_type": "code",
   "execution_count": null,
   "metadata": {},
   "outputs": [],
   "source": [
    "data3"
   ]
  },
  {
   "cell_type": "code",
   "execution_count": null,
   "metadata": {},
   "outputs": [],
   "source": [
    "data3.nunique()"
   ]
  },
  {
   "cell_type": "markdown",
   "metadata": {},
   "source": [
    "OBO File"
   ]
  },
  {
   "cell_type": "code",
   "execution_count": null,
   "metadata": {},
   "outputs": [],
   "source": [
    "obo_path = 'D:/TASI-101/CAFA5/cafa-5-protein-function-prediction/Train/go-basic.obo'\n",
    "graph = obonet.read_obo(obo_path)"
   ]
  },
  {
   "cell_type": "code",
   "execution_count": null,
   "metadata": {},
   "outputs": [],
   "source": [
    "# Menampilkan informasi singkat tentang graf\n",
    "print(\"Informasi tentang graf:\")\n",
    "print(f\"Jumlah node: {len(graph.nodes)}\")\n",
    "print(f\"Jumlah edge: {len(graph.edges)}\")\n",
    "print()\n",
    "\n",
    "# Menampilkan beberapa contoh node\n",
    "print(\"Contoh beberapa node:\")\n",
    "for node, data in graph.nodes(data=True):\n",
    "    if \"name\" in data:\n",
    "        print(f\"ID: {node}, Name: {data['name']}\")\n",
    "print()\n",
    "\n",
    "# Menampilkan beberapa contoh edge\n",
    "print(\"Contoh beberapa edge:\")\n",
    "for source, target, data in graph.edges(data=True):\n",
    "    if \"relationship\" in data:\n",
    "        print(f\"Source: {source}, Target: {target}, Relationship: {data['relationship']}\")"
   ]
  },
  {
   "cell_type": "code",
   "execution_count": null,
   "metadata": {},
   "outputs": [],
   "source": [
    "with open('C:/Users/ruthc/OneDrive/Desktop/SEMESTER 8/TA II/PredictionFunction_Protein_Using LSTM(1)/PredictionFunction_Protein_Using LSTM/data/swissprot.pkl', 'rb') as f:\n",
    "    dataswisprot = pickle.load(f)"
   ]
  },
  {
   "cell_type": "code",
   "execution_count": null,
   "metadata": {},
   "outputs": [],
   "source": [
    "dataswisprot"
   ]
  },
  {
   "cell_type": "code",
   "execution_count": null,
   "metadata": {},
   "outputs": [],
   "source": [
    "import pickle\n",
    "import pandas as pd\n",
    "\n",
    "# Membaca file pickle\n",
    "with open('C:/Users/ruthc/OneDrive/Desktop/SEMESTER 8/TA II/PredictionFunction_Protein_Using LSTM(1)/PredictionFunction_Protein_Using LSTM/data/swissprot.pkl', 'rb') as f:\n",
    "    dataswisprot = pickle.load(f)\n",
    "\n",
    "# Memeriksa apakah data adalah DataFrame\n",
    "if isinstance(dataswisprot, pd.DataFrame):\n",
    "    # Mencari baris dengan accession 'Q9CQV8'\n",
    "    result = dataswisprot[dataswisprot['proteins'] == '1433B_MOUSE']\n",
    "    \n",
    "    if not result.empty:\n",
    "        display(result)\n",
    "    else:\n",
    "        print(f\"Data dengan accession 'Q9CQV8' tidak ditemukan.\")\n",
    "else:\n",
    "    print(\"Data yang dimuat bukan DataFrame.\")"
   ]
  },
  {
   "cell_type": "code",
   "execution_count": null,
   "metadata": {},
   "outputs": [],
   "source": [
    "import pickle\n",
    "import pandas as pd\n",
    "\n",
    "# Membaca file pickle\n",
    "with open('C:/Users/ruthc/OneDrive/Desktop/SEMESTER 8/TA II/PredictionFunction_Protein_Using LSTM(1)/PredictionFunction_Protein_Using LSTM/data/swissprot.pkl', 'rb') as f:\n",
    "    dataswisprot = pickle.load(f)\n",
    "\n",
    "# Memeriksa apakah data adalah DataFrame\n",
    "if isinstance(dataswisprot, pd.DataFrame):\n",
    "    # Mencari baris dengan accession 'Q9CQV8'\n",
    "    result = dataswisprot[dataswisprot['accessions'].str.contains('Q9CQV8')]\n",
    "    \n",
    "    if not result.empty:\n",
    "        # Menampilkan semua GO annotations\n",
    "        annotations = result.iloc[0]['annotations']\n",
    "        exp_annotations = result.iloc[0]['exp_annotations']\n",
    "        prop_annotations = result.iloc[0]['prop_annotations']\n",
    "        \n",
    "        display(\"Annotations:\", annotations)\n",
    "        display(\"Experimental Annotations:\", exp_annotations)\n",
    "        display(\"Predicted Annotations:\", prop_annotations)\n",
    "    else:\n",
    "        print(f\"Data dengan accession 'Q9CQV8' tidak ditemukan.\")\n",
    "else:\n",
    "    print(\"Data yang dimuat bukan DataFrame.\")"
   ]
  },
  {
   "cell_type": "code",
   "execution_count": null,
   "metadata": {},
   "outputs": [],
   "source": [
    "import pickle\n",
    "import pandas as pd\n",
    "\n",
    "# Membaca file pickle\n",
    "with open('C:/Users/ruthc/OneDrive/Desktop/SEMESTER 8/TA II/PredictionFunction_Protein_Using LSTM(1)/PredictionFunction_Protein_Using LSTM/data/swissprot.pkl', 'rb') as f:\n",
    "    dataswisprot = pickle.load(f)\n",
    "\n",
    "# Memeriksa apakah data adalah DataFrame\n",
    "if isinstance(dataswisprot, pd.DataFrame):\n",
    "    # Mencari baris dengan accession 'Q9CQV8'\n",
    "    result = dataswisprot[dataswisprot['accessions'].str.contains('P35213')]\n",
    "    \n",
    "    if not result.empty:\n",
    "        # Menampilkan semua GO annotations\n",
    "        annotations = result.iloc[0]['annotations']\n",
    "        exp_annotations = result.iloc[0]['exp_annotations']\n",
    "        prop_annotations = result.iloc[0]['prop_annotations']\n",
    "        \n",
    "        display(\"Annotations:\", annotations)\n",
    "        display(\"Experimental Annotations:\", exp_annotations)\n",
    "        display(\"Predicted Annotations:\", prop_annotations)\n",
    "    else:\n",
    "        print(f\"Data dengan accession 'P35213' tidak ditemukan.\")\n",
    "else:\n",
    "    print(\"Data yang dimuat bukan DataFrame.\")"
   ]
  },
  {
   "cell_type": "code",
   "execution_count": null,
   "metadata": {},
   "outputs": [],
   "source": []
  }
 ],
 "metadata": {
  "kernelspec": {
   "display_name": "base",
   "language": "python",
   "name": "python3"
  },
  "language_info": {
   "codemirror_mode": {
    "name": "ipython",
    "version": 3
   },
   "file_extension": ".py",
   "mimetype": "text/x-python",
   "name": "python",
   "nbconvert_exporter": "python",
   "pygments_lexer": "ipython3",
   "version": "3.11.0"
  }
 },
 "nbformat": 4,
 "nbformat_minor": 2
}
